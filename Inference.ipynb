{
  "nbformat": 4,
  "nbformat_minor": 0,
  "metadata": {
    "colab": {
      "provenance": []
    },
    "kernelspec": {
      "name": "python3",
      "display_name": "Python 3"
    },
    "language_info": {
      "name": "python"
    }
  },
  "cells": [
    {
      "cell_type": "code",
      "source": [
        "import numpy as np\n",
        "import tensorflow as tf\n",
        "import pickle\n",
        "from tensorflow.keras.preprocessing.sequence import pad_sequences\n",
        "\n",
        "# Load Model\n",
        "model_lstm = tf.keras.models.load_model(\"model_lstm.h5\")\n",
        "model_gru = tf.keras.models.load_model(\"model_gru.h5\")\n",
        "model_cnn_lstm = tf.keras.models.load_model(\"model_cnn_lstm.h5\")\n",
        "\n",
        "# Load Tokenizer untuk LSTM & CNN-LSTM\n",
        "with open(\"tokenizer.pkl\", \"rb\") as f:\n",
        "    tokenizer = pickle.load(f)\n",
        "\n",
        "# Load TF-IDF Vectorizer untuk GRU\n",
        "with open(\"tfidf_vectorizer.pkl\", \"rb\") as f:\n",
        "    tfidf = pickle.load(f)\n"
      ],
      "metadata": {
        "colab": {
          "base_uri": "https://localhost:8080/"
        },
        "id": "s7u0KPvLDkOv",
        "outputId": "39671b8d-d185-4181-b5b3-1067b3952aae"
      },
      "execution_count": 1,
      "outputs": [
        {
          "output_type": "stream",
          "name": "stderr",
          "text": [
            "WARNING:absl:Compiled the loaded model, but the compiled metrics have yet to be built. `model.compile_metrics` will be empty until you train or evaluate the model.\n",
            "WARNING:absl:Compiled the loaded model, but the compiled metrics have yet to be built. `model.compile_metrics` will be empty until you train or evaluate the model.\n",
            "WARNING:absl:Compiled the loaded model, but the compiled metrics have yet to be built. `model.compile_metrics` will be empty until you train or evaluate the model.\n"
          ]
        }
      ]
    },
    {
      "cell_type": "code",
      "execution_count": 4,
      "metadata": {
        "colab": {
          "base_uri": "https://localhost:8080/"
        },
        "id": "dD9Fs6akDQ03",
        "outputId": "38f5f134-2f3a-4934-ff07-ec99ad96c020"
      },
      "outputs": [
        {
          "output_type": "stream",
          "name": "stdout",
          "text": [
            "\u001b[1m1/1\u001b[0m \u001b[32m━━━━━━━━━━━━━━━━━━━━\u001b[0m\u001b[37m\u001b[0m \u001b[1m0s\u001b[0m 45ms/step\n",
            "\u001b[1m1/1\u001b[0m \u001b[32m━━━━━━━━━━━━━━━━━━━━\u001b[0m\u001b[37m\u001b[0m \u001b[1m0s\u001b[0m 36ms/step\n"
          ]
        },
        {
          "output_type": "stream",
          "name": "stderr",
          "text": [
            "WARNING:tensorflow:6 out of the last 10 calls to <function TensorFlowTrainer.make_predict_function.<locals>.one_step_on_data_distributed at 0x787a755ebd80> triggered tf.function retracing. Tracing is expensive and the excessive number of tracings could be due to (1) creating @tf.function repeatedly in a loop, (2) passing tensors with different shapes, (3) passing Python objects instead of tensors. For (1), please define your @tf.function outside of the loop. For (2), @tf.function has reduce_retracing=True option that can avoid unnecessary retracing. For (3), please refer to https://www.tensorflow.org/guide/function#controlling_retracing and https://www.tensorflow.org/api_docs/python/tf/function for  more details.\n"
          ]
        },
        {
          "output_type": "stream",
          "name": "stdout",
          "text": [
            "\u001b[1m1/1\u001b[0m \u001b[32m━━━━━━━━━━━━━━━━━━━━\u001b[0m\u001b[37m\u001b[0m \u001b[1m0s\u001b[0m 70ms/step\n",
            "\n",
            "LSTM Predictions: ['Positif', 'Negatif', 'Netral']\n",
            "GRU Predictions: ['Netral', 'Netral', 'Netral']\n",
            "CNN + LSTM Predictions: ['Positif', 'Negatif', 'Netral']\n"
          ]
        }
      ],
      "source": [
        "# Contoh input komentar\n",
        "input_text = [\"Pemilu kali ini sangat adil dan transparan!\",\n",
        "              \"film isinya hanya sampah dan adu domba\",\n",
        "              \"Ya allah selamatkanlah negeriku\"]\n",
        "\n",
        "# **LSTM & CNN-LSTM**\n",
        "input_seq = pad_sequences(tokenizer.texts_to_sequences(input_text), maxlen=100, padding='post', truncating='post')\n",
        "pred_lstm = np.argmax(model_lstm.predict(input_seq), axis=1)\n",
        "pred_cnn_lstm = np.argmax(model_cnn_lstm.predict(input_seq), axis=1)\n",
        "\n",
        "# **GRU + TF-IDF**\n",
        "input_tfidf = tfidf.transform(input_text).toarray()\n",
        "pred_gru = np.argmax(model_gru.predict(input_tfidf), axis=1)\n",
        "\n",
        "# Mapping Hasil Prediksi ke Label Sentimen\n",
        "sentiment_labels = {0: \"Negatif\", 1: \"Netral\", 2: \"Positif\"}\n",
        "\n",
        "# Tampilkan Hasil Prediksi\n",
        "print(\"\\nLSTM Predictions:\", [sentiment_labels[p] for p in pred_lstm])\n",
        "print(\"GRU Predictions:\", [sentiment_labels[p] for p in pred_gru])\n",
        "print(\"CNN + LSTM Predictions:\", [sentiment_labels[p] for p in pred_cnn_lstm])\n"
      ]
    },
    {
      "cell_type": "code",
      "source": [],
      "metadata": {
        "id": "yTnHYwRPELD6"
      },
      "execution_count": null,
      "outputs": []
    }
  ]
}